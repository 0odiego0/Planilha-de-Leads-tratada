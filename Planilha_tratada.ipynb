{
  "nbformat": 4,
  "nbformat_minor": 0,
  "metadata": {
    "colab": {
      "provenance": [],
      "authorship_tag": "ABX9TyNMmppQ/9A2zCgHbRFKv94Z",
      "include_colab_link": true
    },
    "kernelspec": {
      "name": "python3",
      "display_name": "Python 3"
    },
    "language_info": {
      "name": "python"
    }
  },
  "cells": [
    {
      "cell_type": "markdown",
      "metadata": {
        "id": "view-in-github",
        "colab_type": "text"
      },
      "source": [
        "<a href=\"https://colab.research.google.com/github/0odiego0/Planilha-de-Leads-tratada/blob/main/Planilha_tratada.ipynb\" target=\"_parent\"><img src=\"https://colab.research.google.com/assets/colab-badge.svg\" alt=\"Open In Colab\"/></a>"
      ]
    },
    {
      "cell_type": "code",
      "execution_count": null,
      "metadata": {
        "id": "QfURKdc1L24Q"
      },
      "outputs": [],
      "source": [
        "import pandas as pd"
      ]
    },
    {
      "cell_type": "code",
      "source": [
        "dados = pd.read_csv('planilha.csv', sep=';')\n",
        "dados"
      ],
      "metadata": {
        "id": "voEL0Z4IMaj7"
      },
      "execution_count": null,
      "outputs": []
    },
    {
      "cell_type": "code",
      "source": [
        "colunas_para_manter = [\n",
        "    'ID',\n",
        "    'Etapa',\n",
        "    'Nome do Lead',\n",
        "    'Primeiro nome',\n",
        "    'Criado',\n",
        "    'Telefone de trabalho',\n",
        "    'Outro número de telefone',\n",
        "    'Outro e-mail',\n",
        "    'Responsável',\n",
        "    'Telefone [Automação]',\n",
        "    'Fluxo Automação [RD Station]']"
      ],
      "metadata": {
        "id": "xP0gvD19Me1f"
      },
      "execution_count": null,
      "outputs": []
    },
    {
      "cell_type": "code",
      "source": [
        "dados_filtrados = dados[colunas_para_manter]\n",
        "dados_filtrados"
      ],
      "metadata": {
        "id": "WF7tewuvMiH-"
      },
      "execution_count": null,
      "outputs": []
    },
    {
      "cell_type": "code",
      "source": [
        "dados_filtrados.to_excel('dados_filtrados.xlsx', index = False)\n",
        "\n",
        "print(\"Arquivo salvo como 'dados_filtrados.xlsx'\")"
      ],
      "metadata": {
        "id": "RoFx_Si-MkP3"
      },
      "execution_count": null,
      "outputs": []
    },
    {
      "cell_type": "code",
      "source": [
        "from google.colab import files\n",
        "files.download('dados_filtrados.xlsx')"
      ],
      "metadata": {
        "id": "Eb_VaCVHMowa"
      },
      "execution_count": null,
      "outputs": []
    }
  ]
}